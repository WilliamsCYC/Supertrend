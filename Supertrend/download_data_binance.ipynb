{
 "cells": [
  {
   "cell_type": "code",
   "execution_count": null,
   "id": "cb129dc6",
   "metadata": {},
   "outputs": [],
   "source": [
    "import numpy as np\n",
    "import pandas as pd\n",
    "import requests\n",
    "import time\n",
    "from datetime import datetime, date, timedelta"
   ]
  },
  {
   "cell_type": "code",
   "execution_count": null,
   "id": "7173a110",
   "metadata": {
    "scrolled": false
   },
   "outputs": [],
   "source": [
    "start = datetime(2019,1,1,0,0,0)\n",
    "end = datetime(2023,2,20,23,59,59)"
   ]
  },
  {
   "cell_type": "code",
   "execution_count": null,
   "id": "1f78ebb8",
   "metadata": {},
   "outputs": [],
   "source": [
    "def download_data(frequency, start_inner, end_inner):\n",
    "    unix_start = str(int(time.mktime(time.strptime(f'{str(start_inner)}', '%Y-%m-%d %H:%M:%S'))) * 1000)\n",
    "    unix_end = str(int(time.mktime(time.strptime(f'{str(end_inner)}', '%Y-%m-%d %H:%M:%S'))) * 1000)\n",
    "    url = f\"https://api4.binance.com/api/v3/klines?symbol=BTCUSDT&interval={frequency}&startTime={unix_start}&endTime={unix_end}&limit=1000\"\n",
    "    headers = {\"accept\": \"application/json\"}\n",
    "    response = requests.get(url, headers=headers)\n",
    "    return response.json()"
   ]
  },
  {
   "cell_type": "code",
   "execution_count": null,
   "id": "c52eaafa",
   "metadata": {},
   "outputs": [],
   "source": [
    "data_list = []\n",
    "\n",
    "start_inner = start\n",
    "end_inner = start + timedelta(days=160)\n",
    "data_list += download_data('4h', start_inner, end_inner)\n",
    "while end_inner < end:\n",
    "    start_inner = end_inner\n",
    "    end_inner = start_inner + timedelta(days=160)\n",
    "    data_list += download_data('4h', start_inner, end_inner)\n",
    "else:\n",
    "    start_inner = end_inner\n",
    "    end_inner = end\n",
    "    data_list += download_data('4h', start_inner, end_inner)"
   ]
  },
  {
   "cell_type": "code",
   "execution_count": null,
   "id": "5e41e32a",
   "metadata": {},
   "outputs": [],
   "source": [
    "value = np.array(data_list)\n",
    "data = pd.DataFrame(value, columns=['time', 'open', 'high', 'low', 'close', 'volume', 'delete', 'delete', 'delete', 'delete', 'delete', 'delete'])"
   ]
  },
  {
   "cell_type": "code",
   "execution_count": null,
   "id": "dd936718",
   "metadata": {},
   "outputs": [],
   "source": [
    "data.drop('delete', axis=1, inplace=True)"
   ]
  },
  {
   "cell_type": "code",
   "execution_count": null,
   "id": "8d7c7755",
   "metadata": {},
   "outputs": [],
   "source": [
    "data['time'] = [datetime.fromtimestamp(int(i)/1000) for i in data['time'].values]"
   ]
  },
  {
   "cell_type": "code",
   "execution_count": null,
   "id": "11136cfd",
   "metadata": {},
   "outputs": [],
   "source": [
    "data.drop_duplicates(inplace=True)"
   ]
  },
  {
   "cell_type": "code",
   "execution_count": null,
   "id": "4c295aa9",
   "metadata": {},
   "outputs": [],
   "source": [
    "data.duplicated().sum()"
   ]
  },
  {
   "cell_type": "code",
   "execution_count": null,
   "id": "e352b494",
   "metadata": {},
   "outputs": [],
   "source": [
    "data.set_index('time', inplace=True)\n",
    "for i in range(1, len(data.index)):\n",
    "    if data.index[i] != data.index[i-1] + timedelta(hours=4):\n",
    "        print(data.index[i-1], data.index[i])"
   ]
  },
  {
   "cell_type": "code",
   "execution_count": null,
   "id": "748e84bb",
   "metadata": {},
   "outputs": [],
   "source": [
    "data.reset_index(inplace=True)"
   ]
  },
  {
   "cell_type": "code",
   "execution_count": null,
   "id": "2df52e84",
   "metadata": {},
   "outputs": [],
   "source": [
    "data.to_csv('data/btcusdt_4h.csv', index=0)"
   ]
  }
 ],
 "metadata": {
  "kernelspec": {
   "display_name": "tensorflow",
   "language": "python",
   "name": "tensorflow"
  },
  "language_info": {
   "codemirror_mode": {
    "name": "ipython",
    "version": 3
   },
   "file_extension": ".py",
   "mimetype": "text/x-python",
   "name": "python",
   "nbconvert_exporter": "python",
   "pygments_lexer": "ipython3",
   "version": "3.9.16"
  }
 },
 "nbformat": 4,
 "nbformat_minor": 5
}

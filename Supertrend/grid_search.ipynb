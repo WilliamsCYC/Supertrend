{
 "cells": [
  {
   "cell_type": "code",
   "execution_count": null,
   "id": "47214475",
   "metadata": {},
   "outputs": [],
   "source": [
    "import pandas as pd\n",
    "import collections\n",
    "from mylibs.mylibs import grid_search"
   ]
  },
  {
   "cell_type": "markdown",
   "id": "a125f79a",
   "metadata": {},
   "source": [
    "# Parameter control panel"
   ]
  },
  {
   "cell_type": "code",
   "execution_count": null,
   "id": "5eb8b2b2",
   "metadata": {},
   "outputs": [],
   "source": [
    "start = '2020-01-01 08:00:00'                                                         # the start of the bactesting period \n",
    "end = None                                                                            # the end of the backtesting period\n",
    "initial_cash = 10000000.0                                                             # cash invested\n",
    "\n",
    "parameter_dic = collections.OrderedDict()\n",
    "parameter_dic['factor_span']      = [1.5, 2, 2.5, 3, 3.5, 4]                          # control the width of two bands\n",
    "parameter_dic['atr_period_span']  = [6, 7, 8, 9, 10, 12, 14, 16, 20]                  # use how many days to calculate ATR\n",
    "parameter_dic['order_size_span']  = [50, 60, 70, 75, 80, 85, 90, 100]                 # percentage of cash for each order\n",
    "parameter_dic['dema_length_span'] = [30, 60, 100, 120, 144, 169, 252, 576, 676]       # the lookback period of dema "
   ]
  },
  {
   "cell_type": "markdown",
   "id": "a4ec7751",
   "metadata": {},
   "source": [
    "### We can not change these parameters in real life"
   ]
  },
  {
   "cell_type": "code",
   "execution_count": null,
   "id": "95e5267f",
   "metadata": {},
   "outputs": [],
   "source": [
    "commission = 0.0003                                                                   # commission charged by exchange\n",
    "slippage   = 0.0002                                                                   # slippage"
   ]
  },
  {
   "cell_type": "markdown",
   "id": "9f8848d6",
   "metadata": {},
   "source": [
    "***"
   ]
  },
  {
   "cell_type": "markdown",
   "id": "14f32a23",
   "metadata": {},
   "source": [
    "# Grid search"
   ]
  },
  {
   "cell_type": "code",
   "execution_count": null,
   "id": "044e1d69",
   "metadata": {},
   "outputs": [],
   "source": [
    "data = pd.read_csv(f'data/btcusdt_4h.csv')\n",
    "data.set_index('time', inplace=True)"
   ]
  },
  {
   "cell_type": "code",
   "execution_count": null,
   "id": "5d45ba89",
   "metadata": {
    "scrolled": false
   },
   "outputs": [],
   "source": [
    "%%time\n",
    "grid_search_result = grid_search(data, start, end, initial_cash, parameter_dic, commission, slippage)"
   ]
  },
  {
   "cell_type": "code",
   "execution_count": null,
   "id": "c8390c2e",
   "metadata": {},
   "outputs": [],
   "source": [
    "grid_search_result.to_csv(f'results/grid_search_result_binance.csv', index=0)"
   ]
  },
  {
   "cell_type": "markdown",
   "id": "1bc78eab",
   "metadata": {},
   "source": [
    "***"
   ]
  },
  {
   "cell_type": "markdown",
   "id": "ee8e38db",
   "metadata": {},
   "source": [
    "# Choose parameters"
   ]
  },
  {
   "cell_type": "markdown",
   "id": "59c66dc4",
   "metadata": {},
   "source": [
    "<p>We use the first 4 time period to choose parameters and use the last 1 time period to test.</p>\n",
    "<p>The criteria is that: calculate the Calmar Ratio of the first 4 periods, then find a threshold value to filter records according to Calmar Ratio, the Calmar Ratio of four periods should all be higher than that threshold, we stop when there is only one records left, finally, we use the parameters of that record.</p>"
   ]
  },
  {
   "cell_type": "code",
   "execution_count": null,
   "id": "e6b4efa9",
   "metadata": {},
   "outputs": [],
   "source": [
    "grid_search_result = pd.read_csv('results/grid_search_result_binance.csv')"
   ]
  },
  {
   "cell_type": "code",
   "execution_count": null,
   "id": "93c99bbc",
   "metadata": {},
   "outputs": [],
   "source": [
    "def threhold_of(variable):  \n",
    "    \"\"\"use the mean value of Calmar Ratio of all four periods to do the first seperation\"\"\"\n",
    "    sum_ = 0\n",
    "    for i in range(4):\n",
    "        sum_ += grid_search_result[f'{i}_{variable}'].mean()\n",
    "    threshold = sum_ / 4\n",
    "\n",
    "    condition = (grid_search_result[f'0_{variable}'] > threshold)\n",
    "    for i in range(1, 4):\n",
    "        condition *= (grid_search_result[f'{i}_{variable}'] > threshold)\n",
    "        \n",
    "    '''use count to prevent deathloop'''\n",
    "    count = 0\n",
    "    \n",
    "    while len(grid_search_result[condition]) != 1:\n",
    "        # when there are more than one records left, raise threshold\n",
    "        if len(grid_search_result[condition]) > 1:\n",
    "            threshold += 0.01\n",
    "        # when there is no records left, decrease threshold\n",
    "        else:\n",
    "            threshold -= 0.01\n",
    "            \n",
    "        condition = (grid_search_result[f'0_{variable}'] > threshold)\n",
    "        for i in range(1, 4):\n",
    "            condition *= (grid_search_result[f'{i}_{variable}'] > threshold)\n",
    "            \n",
    "        count += 1\n",
    "        if count >= 1000 and len(grid_search_result[condition]) >= 1:\n",
    "            return threshold\n",
    "    else:\n",
    "        return threshold"
   ]
  },
  {
   "cell_type": "code",
   "execution_count": null,
   "id": "1f91b560",
   "metadata": {},
   "outputs": [],
   "source": [
    "variable = 'calmar'\n",
    "threshold = threhold_of(variable)\n",
    "condition = generate_condition(variable, threshold)\n",
    "grid_search_result[condition]"
   ]
  },
  {
   "cell_type": "markdown",
   "id": "4c230bde",
   "metadata": {},
   "source": [
    "Then we use parameter dict {'factor': 3.5, 'atr_period': 6, 'order_size': 50, 'dema_length': 252}"
   ]
  }
 ],
 "metadata": {
  "kernelspec": {
   "display_name": "tensorflow",
   "language": "python",
   "name": "tensorflow"
  },
  "language_info": {
   "codemirror_mode": {
    "name": "ipython",
    "version": 3
   },
   "file_extension": ".py",
   "mimetype": "text/x-python",
   "name": "python",
   "nbconvert_exporter": "python",
   "pygments_lexer": "ipython3",
   "version": "3.9.16"
  }
 },
 "nbformat": 4,
 "nbformat_minor": 5
}

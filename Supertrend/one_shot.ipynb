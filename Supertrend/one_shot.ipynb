{
 "cells": [
  {
   "cell_type": "code",
   "execution_count": null,
   "id": "73c1e95e",
   "metadata": {},
   "outputs": [],
   "source": [
    "import pandas as pd\n",
    "import plotly.graph_objects as go\n",
    "import backtrader as bt\n",
    "import numpy as np\n",
    "from mylibs.mylibs import data_massage, backtest_results\n",
    "from mylibs.plot_ import plot_performance, plot_transactions"
   ]
  },
  {
   "cell_type": "markdown",
   "id": "deb2b381",
   "metadata": {},
   "source": [
    "# Parameter control panel"
   ]
  },
  {
   "cell_type": "markdown",
   "id": "d2e27d50",
   "metadata": {},
   "source": [
    "### Basic setting"
   ]
  },
  {
   "cell_type": "code",
   "execution_count": null,
   "id": "29a6d13f",
   "metadata": {},
   "outputs": [],
   "source": [
    "start        = '2020-01-01 08:00:00'       # the start of the bactesting period \n",
    "end          = None                        # the end of the backtesting period\n",
    "initial_cash = 10000000.0                  # cash invested"
   ]
  },
  {
   "cell_type": "markdown",
   "id": "750d1600",
   "metadata": {},
   "source": [
    "### Hyperparameters"
   ]
  },
  {
   "cell_type": "code",
   "execution_count": null,
   "id": "47e7f958",
   "metadata": {},
   "outputs": [],
   "source": [
    "factor       = 3.5                         # control the width of two bands\n",
    "atr_period   = 6                           # the rolling window of ATR\n",
    "order_size   = 50                          # percentage of cash for each order\n",
    "dema_length  = 252                         # the rolling window of DEMA"
   ]
  },
  {
   "cell_type": "markdown",
   "id": "a4ec7751",
   "metadata": {},
   "source": [
    "### We can not change these parameters in real life"
   ]
  },
  {
   "cell_type": "code",
   "execution_count": null,
   "id": "95e5267f",
   "metadata": {},
   "outputs": [],
   "source": [
    "commission = 0.0004                        # commission charged by the exchange\n",
    "slippage   = 0.0002                        # slippage"
   ]
  },
  {
   "cell_type": "markdown",
   "id": "c6196219",
   "metadata": {},
   "source": [
    "***"
   ]
  },
  {
   "cell_type": "markdown",
   "id": "5532ddd4",
   "metadata": {},
   "source": [
    "# Testing Period Performance"
   ]
  },
  {
   "cell_type": "markdown",
   "id": "2e8d7af9",
   "metadata": {},
   "source": [
    "We use the first $\\frac{4}{5}$ of time to choose parameters and use the last $\\frac{1}{5}$ of time to test"
   ]
  },
  {
   "cell_type": "code",
   "execution_count": null,
   "id": "27be4ead",
   "metadata": {},
   "outputs": [],
   "source": [
    "data = pd.read_csv(f'data/btcusdt_4h.csv')\n",
    "data.set_index('time', inplace=True)\n",
    "df = data_massage(data, factor, atr_period, dema_length, start, end)\n",
    "df.dropna()\n",
    "'''choose the test period, which is the last time period'''\n",
    "step = int(len(df) / 5)\n",
    "df_5 = df.iloc[4 * step:]"
   ]
  },
  {
   "cell_type": "code",
   "execution_count": null,
   "id": "b6cdadf5",
   "metadata": {
    "scrolled": false
   },
   "outputs": [],
   "source": [
    "time_return, transactions = backtest_results(df_5, initial_cash, order_size, commission, slippage)\n",
    "plot_performance(time_return, df_5, initial_cash, order_size)\n",
    "plot_transactions(df_5, transactions, time_return)"
   ]
  },
  {
   "cell_type": "markdown",
   "id": "e452e48e",
   "metadata": {},
   "source": [
    "# Performance sine 2020"
   ]
  },
  {
   "cell_type": "code",
   "execution_count": null,
   "id": "ca1ba04c",
   "metadata": {},
   "outputs": [],
   "source": [
    "data = data_massage(data, factor, atr_period, dema_length, start, end)"
   ]
  },
  {
   "cell_type": "code",
   "execution_count": null,
   "id": "a15dca2c",
   "metadata": {},
   "outputs": [],
   "source": [
    "time_return, transactions = backtest_results(data, initial_cash, order_size, commission, slippage)"
   ]
  },
  {
   "cell_type": "code",
   "execution_count": null,
   "id": "d4537e3a",
   "metadata": {
    "scrolled": false
   },
   "outputs": [],
   "source": [
    "plot_performance(time_return, data, initial_cash, order_size)"
   ]
  },
  {
   "cell_type": "code",
   "execution_count": null,
   "id": "06df5f9b",
   "metadata": {},
   "outputs": [],
   "source": [
    "plot_transactions(data[:500], transactions, time_return[:500])"
   ]
  }
 ],
 "metadata": {
  "kernelspec": {
   "display_name": "tensorflow",
   "language": "python",
   "name": "tensorflow"
  },
  "language_info": {
   "codemirror_mode": {
    "name": "ipython",
    "version": 3
   },
   "file_extension": ".py",
   "mimetype": "text/x-python",
   "name": "python",
   "nbconvert_exporter": "python",
   "pygments_lexer": "ipython3",
   "version": "3.9.16"
  },
  "varInspector": {
   "cols": {
    "lenName": 16,
    "lenType": 16,
    "lenVar": 40
   },
   "kernels_config": {
    "python": {
     "delete_cmd_postfix": "",
     "delete_cmd_prefix": "del ",
     "library": "var_list.py",
     "varRefreshCmd": "print(var_dic_list())"
    },
    "r": {
     "delete_cmd_postfix": ") ",
     "delete_cmd_prefix": "rm(",
     "library": "var_list.r",
     "varRefreshCmd": "cat(var_dic_list()) "
    }
   },
   "types_to_exclude": [
    "module",
    "function",
    "builtin_function_or_method",
    "instance",
    "_Feature"
   ],
   "window_display": false
  }
 },
 "nbformat": 4,
 "nbformat_minor": 5
}
